{
 "cells": [
  {
   "cell_type": "markdown",
   "metadata": {},
   "source": [
    "## DS 5559: Group 2 Reddit Scraping\n",
    "\n",
    "### Sarah Adams, sa4fa\n",
    "### Claire Setser, cas3ph\n",
    "### Landon Blakey, ldb3mj\n",
    "\n",
    "#### Last Modified: October 11, 2020"
   ]
  },
  {
   "cell_type": "code",
   "execution_count": 1,
   "metadata": {},
   "outputs": [],
   "source": [
    "import pandas as pd\n",
    "import praw\n",
    "import psaw\n",
    "import datetime as dt\n",
    "import math\n",
    "import time \n",
    "from psaw import PushshiftAPI"
   ]
  },
  {
   "cell_type": "code",
   "execution_count": 2,
   "metadata": {},
   "outputs": [],
   "source": [
    "r = praw.Reddit(client_id='uYB49_0KLeLg-Q',\n",
    "                client_secret='', \n",
    "                user_agent='DS5559-project', \n",
    "                username='OK_Tea_9189', \n",
    "                password='')"
   ]
  },
  {
   "cell_type": "code",
   "execution_count": 3,
   "metadata": {},
   "outputs": [
    {
     "name": "stdout",
     "output_type": "stream",
     "text": [
      "Ok_Tea_9189\n"
     ]
    }
   ],
   "source": [
    "print(r.user.me())"
   ]
  },
  {
   "cell_type": "code",
   "execution_count": 4,
   "metadata": {},
   "outputs": [],
   "source": [
    "#health subreddits\n",
    "health_subreddits = ['EDAnonymous', 'addiction', 'alcoholism', 'adhd', 'anxiety', 'autism', 'BipolarReddit', 'bpd', \n",
    "        'depression', 'healthanxiety', 'lonely', 'ptsd', 'schizophrenia', 'socialanxiety', 'SuicideWatch', \n",
    "        'mentalhealth', 'COVID19_support', 'meditation', 'fitness']\n",
    "\n",
    "#non-mental health subreddits\n",
    "non_health_subreddits = ['conspiracy', 'divorce', 'guns', 'jokes', 'legaladvice', \n",
    "                         'parenting', 'presonalfinance', 'relationships', 'teaching']\n"
   ]
  },
  {
   "cell_type": "code",
   "execution_count": 5,
   "metadata": {},
   "outputs": [],
   "source": [
    "def get_date(created):\n",
    "    return dt.date.fromtimestamp(created)"
   ]
  },
  {
   "cell_type": "code",
   "execution_count": 6,
   "metadata": {},
   "outputs": [],
   "source": [
    "def get_submission_from_timestamp(epoch_time, sub):\n",
    "    start_time = time.gmtime(epoch_time)\n",
    "    df_dict = {}\n",
    "    day_list = []\n",
    "    date = get_date(epoch_time)\n",
    "    stop = dt.datetime.today().timestamp()\n",
    "    delta_epoch=int(stop - start)\n",
    "    \n",
    "    submissions = list(api.search_submissions(before=epoch_time,\n",
    "                        subreddit=sub,\n",
    "                        filter=['url','author', 'title', 'subreddit','created'],\n",
    "                        limit=30))\n",
    "\n",
    "    for submission in submissions:\n",
    "        day_list.append([submission.url, submission.author, submission.title, submission.subreddit, submission.created])\n",
    "        #print(submission.title)\n",
    "    df = pd.DataFrame(day_list, columns=['url', 'author', 'title', 'subreddit', 'created'])\n",
    "    timestamp = df['created'].apply(get_date)\n",
    "    df['Date'] = timestamp\n",
    "    df['Date'] =pd.to_datetime(df.Date)\n",
    "    return df\n",
    "            "
   ]
  },
  {
   "cell_type": "code",
   "execution_count": 7,
   "metadata": {},
   "outputs": [],
   "source": [
    "api = PushshiftAPI(r)\n",
    "start_epoch=int(dt.datetime(2019, 1, 1).timestamp())\n",
    "\n",
    "submissions = list(api.search_submissions(after=start_epoch,\n",
    "                            subreddit=['addiction', 'alcoholism'],\n",
    "                            filter=['url','author', 'title', 'subreddit','created'],\n",
    "                            limit=100))"
   ]
  },
  {
   "cell_type": "code",
   "execution_count": 8,
   "metadata": {},
   "outputs": [
    {
     "name": "stderr",
     "output_type": "stream",
     "text": [
      "/opt/anaconda3/envs/python-default/lib/python3.7/site-packages/psaw/PushshiftAPI.py:192: UserWarning: Got non 200 code 429\n",
      "  warnings.warn(\"Got non 200 code %s\" % response.status_code)\n",
      "/opt/anaconda3/envs/python-default/lib/python3.7/site-packages/psaw/PushshiftAPI.py:180: UserWarning: Unable to connect to pushshift.io. Retrying after backoff.\n",
      "  warnings.warn(\"Unable to connect to pushshift.io. Retrying after backoff.\")\n"
     ]
    }
   ],
   "source": [
    "subs = ['EDAnonymous', 'addiction', 'alcoholism', 'adhd', 'anxiety', 'autism', 'BipolarReddit', 'bpd', \n",
    "        'depression', 'healthanxiety', 'lonely', 'ptsd', 'schizophrenia', 'socialanxiety', 'SuicideWatch', \n",
    "        'mentalhealth', 'COVID19_support', 'meditation', 'fitness', 'conspiracy', 'divorce', 'guns', \n",
    "        'jokes', 'legaladvice', 'parenting', 'presonalfinance', 'relationships', 'teaching']\n",
    "days = 273\n",
    "start = 1577836800\n",
    "hrs24 = 86400\n",
    "data = {}\n",
    "#current_epoch = start + hrs24\n",
    "#date = get_date(current_epoch)\n",
    "#fullData = get_submission_from_timestamp(current_epoch, 'addiction')\n",
    "#fullData.drop(fullData[fullData['Date'] != str(date)].index, inplace = True) \n",
    "fullData = pd.DataFrame(data=({'url': ['NA'], 'author': ['NA'], 'title': ['NA'],  'subreddit':['NA'] , 'created':['NA'] , 'Date':['NA']}))\n",
    "for sub in subs:\n",
    "    \n",
    "    for day in range(1,days):\n",
    "        current_epoch = start + hrs24*day\n",
    "        date = get_date(current_epoch)\n",
    "        temp = get_submission_from_timestamp(current_epoch, sub)\n",
    "        temp.drop(temp[temp['Date'] != str(date)].index, inplace = True)\n",
    "        fullData = pd.concat([fullData,temp],ignore_index=False)\n",
    "    fullData.set_index(['Date', 'subreddit','created'])\n"
   ]
  },
  {
   "cell_type": "code",
   "execution_count": 9,
   "metadata": {},
   "outputs": [],
   "source": [
    "fullData.to_csv('fullData_SA.csv', index = False)"
   ]
  },
  {
   "cell_type": "code",
   "execution_count": null,
   "metadata": {},
   "outputs": [],
   "source": []
  }
 ],
 "metadata": {
  "kernelspec": {
   "display_name": "Python 3",
   "language": "python",
   "name": "python3"
  },
  "language_info": {
   "codemirror_mode": {
    "name": "ipython",
    "version": 3
   },
   "file_extension": ".py",
   "mimetype": "text/x-python",
   "name": "python",
   "nbconvert_exporter": "python",
   "pygments_lexer": "ipython3",
   "version": "3.7.7"
  }
 },
 "nbformat": 4,
 "nbformat_minor": 4
}
